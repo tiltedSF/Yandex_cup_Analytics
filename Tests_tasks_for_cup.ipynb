{
 "cells": [
  {
   "cell_type": "markdown",
   "id": "0034fac4",
   "metadata": {},
   "source": [
    "# A.pFound"
   ]
  },
  {
   "cell_type": "markdown",
   "id": "7b1327ec",
   "metadata": {},
   "source": [
    "### Для open_task"
   ]
  },
  {
   "cell_type": "code",
   "execution_count": 3,
   "id": "9afd8bec",
   "metadata": {},
   "outputs": [],
   "source": [
    "import pandas as pd\n",
    "import numpy as np"
   ]
  },
  {
   "cell_type": "code",
   "execution_count": 4,
   "id": "5897f531",
   "metadata": {},
   "outputs": [],
   "source": [
    "host_df = pd.read_csv(\"yandex_cup_analytics_A/open_task/hostid_url.tsv\", sep=\"\\t\", \n",
    "                      names=[\"hostid\", \"url\"])\n",
    "\n",
    "query_df = pd.read_csv(\"yandex_cup_analytics_A/open_task/qid_query.tsv\", sep=\"\\t\", \n",
    "                       names=[\"qid\", \"query\"])\n",
    "\n",
    "rating_df = pd.read_csv(\"yandex_cup_analytics_A/open_task/qid_url_rating.tsv\", \n",
    "                        sep=\"\\t\", names=[\"qid\", \"url\", \"rating\"])"
   ]
  },
  {
   "cell_type": "code",
   "execution_count": 5,
   "id": "b0d2c9c8",
   "metadata": {},
   "outputs": [
    {
     "data": {
      "text/html": [
       "<div>\n",
       "<style scoped>\n",
       "    .dataframe tbody tr th:only-of-type {\n",
       "        vertical-align: middle;\n",
       "    }\n",
       "\n",
       "    .dataframe tbody tr th {\n",
       "        vertical-align: top;\n",
       "    }\n",
       "\n",
       "    .dataframe thead th {\n",
       "        text-align: right;\n",
       "    }\n",
       "</style>\n",
       "<table border=\"1\" class=\"dataframe\">\n",
       "  <thead>\n",
       "    <tr style=\"text-align: right;\">\n",
       "      <th></th>\n",
       "      <th>hostid</th>\n",
       "      <th>url</th>\n",
       "    </tr>\n",
       "  </thead>\n",
       "  <tbody>\n",
       "    <tr>\n",
       "      <th>0</th>\n",
       "      <td>100</td>\n",
       "      <td>http://cons66.ru/</td>\n",
       "    </tr>\n",
       "    <tr>\n",
       "      <th>1</th>\n",
       "      <td>1000</td>\n",
       "      <td>http://www.pozdravleniya.biz/stihi/detskie/</td>\n",
       "    </tr>\n",
       "    <tr>\n",
       "      <th>2</th>\n",
       "      <td>1001</td>\n",
       "      <td>http://www.pravda.ru/society/family/pbringing/...</td>\n",
       "    </tr>\n",
       "    <tr>\n",
       "      <th>3</th>\n",
       "      <td>1002</td>\n",
       "      <td>http://www.pravpiter.ru/gorn/n015/ta003.htm</td>\n",
       "    </tr>\n",
       "    <tr>\n",
       "      <th>4</th>\n",
       "      <td>1003</td>\n",
       "      <td>http://www.pregnancycalendar.ru/biblioteka/vse...</td>\n",
       "    </tr>\n",
       "  </tbody>\n",
       "</table>\n",
       "</div>"
      ],
      "text/plain": [
       "   hostid                                                url\n",
       "0     100                                  http://cons66.ru/\n",
       "1    1000        http://www.pozdravleniya.biz/stihi/detskie/\n",
       "2    1001  http://www.pravda.ru/society/family/pbringing/...\n",
       "3    1002        http://www.pravpiter.ru/gorn/n015/ta003.htm\n",
       "4    1003  http://www.pregnancycalendar.ru/biblioteka/vse..."
      ]
     },
     "execution_count": 5,
     "metadata": {},
     "output_type": "execute_result"
    }
   ],
   "source": [
    "host_df.head()"
   ]
  },
  {
   "cell_type": "code",
   "execution_count": 7,
   "id": "6d5bb8cb",
   "metadata": {},
   "outputs": [
    {
     "data": {
      "text/html": [
       "<div>\n",
       "<style scoped>\n",
       "    .dataframe tbody tr th:only-of-type {\n",
       "        vertical-align: middle;\n",
       "    }\n",
       "\n",
       "    .dataframe tbody tr th {\n",
       "        vertical-align: top;\n",
       "    }\n",
       "\n",
       "    .dataframe thead th {\n",
       "        text-align: right;\n",
       "    }\n",
       "</style>\n",
       "<table border=\"1\" class=\"dataframe\">\n",
       "  <thead>\n",
       "    <tr style=\"text-align: right;\">\n",
       "      <th></th>\n",
       "      <th>qid</th>\n",
       "      <th>query</th>\n",
       "    </tr>\n",
       "  </thead>\n",
       "  <tbody>\n",
       "    <tr>\n",
       "      <th>0</th>\n",
       "      <td>10387</td>\n",
       "      <td>batman arkham city будет русский перевод?</td>\n",
       "    </tr>\n",
       "    <tr>\n",
       "      <th>1</th>\n",
       "      <td>107538</td>\n",
       "      <td>Список белорусской литературы по лизингу</td>\n",
       "    </tr>\n",
       "    <tr>\n",
       "      <th>2</th>\n",
       "      <td>150126</td>\n",
       "      <td>написание review</td>\n",
       "    </tr>\n",
       "    <tr>\n",
       "      <th>3</th>\n",
       "      <td>168170</td>\n",
       "      <td>медаль в подарок на 30 лет</td>\n",
       "    </tr>\n",
       "    <tr>\n",
       "      <th>4</th>\n",
       "      <td>176370</td>\n",
       "      <td>что означает рожь и пшеница годом родится а ве...</td>\n",
       "    </tr>\n",
       "  </tbody>\n",
       "</table>\n",
       "</div>"
      ],
      "text/plain": [
       "      qid                                              query\n",
       "0   10387          batman arkham city будет русский перевод?\n",
       "1  107538           Список белорусской литературы по лизингу\n",
       "2  150126                                   написание review\n",
       "3  168170                         медаль в подарок на 30 лет\n",
       "4  176370  что означает рожь и пшеница годом родится а ве..."
      ]
     },
     "execution_count": 7,
     "metadata": {},
     "output_type": "execute_result"
    }
   ],
   "source": [
    "query_df.head()"
   ]
  },
  {
   "cell_type": "code",
   "execution_count": 8,
   "id": "559cf057",
   "metadata": {},
   "outputs": [
    {
     "data": {
      "text/html": [
       "<div>\n",
       "<style scoped>\n",
       "    .dataframe tbody tr th:only-of-type {\n",
       "        vertical-align: middle;\n",
       "    }\n",
       "\n",
       "    .dataframe tbody tr th {\n",
       "        vertical-align: top;\n",
       "    }\n",
       "\n",
       "    .dataframe thead th {\n",
       "        text-align: right;\n",
       "    }\n",
       "</style>\n",
       "<table border=\"1\" class=\"dataframe\">\n",
       "  <thead>\n",
       "    <tr style=\"text-align: right;\">\n",
       "      <th></th>\n",
       "      <th>qid</th>\n",
       "      <th>url</th>\n",
       "      <th>rating</th>\n",
       "    </tr>\n",
       "  </thead>\n",
       "  <tbody>\n",
       "    <tr>\n",
       "      <th>0</th>\n",
       "      <td>10387</td>\n",
       "      <td>http://batman-arkhamcity.ru/</td>\n",
       "      <td>0.00</td>\n",
       "    </tr>\n",
       "    <tr>\n",
       "      <th>1</th>\n",
       "      <td>10387</td>\n",
       "      <td>http://bigtorrents.org/publ/batman_arkham_city...</td>\n",
       "      <td>0.14</td>\n",
       "    </tr>\n",
       "    <tr>\n",
       "      <th>2</th>\n",
       "      <td>10387</td>\n",
       "      <td>http://consolelife.ru/xbox-360/6577-o-rossiysk...</td>\n",
       "      <td>0.14</td>\n",
       "    </tr>\n",
       "    <tr>\n",
       "      <th>3</th>\n",
       "      <td>10387</td>\n",
       "      <td>http://dic.academic.ru/book.nsf/3662736/Batman...</td>\n",
       "      <td>0.00</td>\n",
       "    </tr>\n",
       "    <tr>\n",
       "      <th>4</th>\n",
       "      <td>10387</td>\n",
       "      <td>http://forum.csmania.ru/viewtopic.php?t=25986</td>\n",
       "      <td>0.14</td>\n",
       "    </tr>\n",
       "  </tbody>\n",
       "</table>\n",
       "</div>"
      ],
      "text/plain": [
       "     qid                                                url  rating\n",
       "0  10387                       http://batman-arkhamcity.ru/    0.00\n",
       "1  10387  http://bigtorrents.org/publ/batman_arkham_city...    0.14\n",
       "2  10387  http://consolelife.ru/xbox-360/6577-o-rossiysk...    0.14\n",
       "3  10387  http://dic.academic.ru/book.nsf/3662736/Batman...    0.00\n",
       "4  10387      http://forum.csmania.ru/viewtopic.php?t=25986    0.14"
      ]
     },
     "execution_count": 8,
     "metadata": {},
     "output_type": "execute_result"
    }
   ],
   "source": [
    "rating_df.head()"
   ]
  },
  {
   "cell_type": "code",
   "execution_count": 9,
   "id": "3311d326",
   "metadata": {},
   "outputs": [],
   "source": [
    "host_qid_rating = pd.merge(host_df, rating_df, on=\"url\")"
   ]
  },
  {
   "cell_type": "code",
   "execution_count": 10,
   "id": "734a16c7",
   "metadata": {},
   "outputs": [],
   "source": [
    "pBreak = 0.15\n",
    "\n",
    "def pLook(i, pRel):\n",
    "    if i == 0: \n",
    "        return 1\n",
    "    return pLook(i-1, pRel)*(1-pRel[i-1])*(1-pBreak)\n",
    "\n",
    "def pFound(df):\n",
    "    max_rating_for_host = df.groupby(\"hostid\")[\"rating\"].max()\n",
    "    top10 = max_rating_for_host.sort_values(ascending=False)[:10]\n",
    "    \n",
    "    pFound = 0\n",
    "    \n",
    "    for i, rating in enumerate(top10):\n",
    "        pFound += pLook(i, top10.values)*rating\n",
    "        \n",
    "    return pFound"
   ]
  },
  {
   "cell_type": "code",
   "execution_count": 11,
   "id": "ff5aecaa",
   "metadata": {},
   "outputs": [
    {
     "data": {
      "text/html": [
       "<div>\n",
       "<style scoped>\n",
       "    .dataframe tbody tr th:only-of-type {\n",
       "        vertical-align: middle;\n",
       "    }\n",
       "\n",
       "    .dataframe tbody tr th {\n",
       "        vertical-align: top;\n",
       "    }\n",
       "\n",
       "    .dataframe thead th {\n",
       "        text-align: right;\n",
       "    }\n",
       "</style>\n",
       "<table border=\"1\" class=\"dataframe\">\n",
       "  <thead>\n",
       "    <tr style=\"text-align: right;\">\n",
       "      <th></th>\n",
       "      <th>qid</th>\n",
       "      <th>query</th>\n",
       "    </tr>\n",
       "  </thead>\n",
       "  <tbody>\n",
       "    <tr>\n",
       "      <th>12</th>\n",
       "      <td>295761</td>\n",
       "      <td>гугл переводчик</td>\n",
       "    </tr>\n",
       "  </tbody>\n",
       "</table>\n",
       "</div>"
      ],
      "text/plain": [
       "       qid            query\n",
       "12  295761  гугл переводчик"
      ]
     },
     "execution_count": 11,
     "metadata": {},
     "output_type": "execute_result"
    }
   ],
   "source": [
    "pFound_df = host_qid_rating.groupby(\"qid\").apply(pFound)\n",
    "query_df[query_df[\"qid\"] == pFound_df.idxmax()]"
   ]
  },
  {
   "cell_type": "markdown",
   "id": "4503bd3a",
   "metadata": {},
   "source": [
    "### Для hidden_task"
   ]
  },
  {
   "cell_type": "code",
   "execution_count": 12,
   "id": "d5639a30",
   "metadata": {},
   "outputs": [],
   "source": [
    "host_df = pd.read_csv(\"yandex_cup_analytics_A/hidden_task/hostid_url.tsv\", sep=\"\\t\", \n",
    "                      names=[\"hostid\", \"url\"])\n",
    "\n",
    "query_df = pd.read_csv(\"yandex_cup_analytics_A/hidden_task/qid_query.tsv\", sep=\"\\t\", \n",
    "                       names=[\"qid\", \"query\"])\n",
    "\n",
    "rating_df = pd.read_csv(\"yandex_cup_analytics_A/hidden_task/qid_url_rating.tsv\", \n",
    "                        sep=\"\\t\", names=[\"qid\", \"url\", \"rating\"])"
   ]
  },
  {
   "cell_type": "code",
   "execution_count": 14,
   "id": "0e465abb",
   "metadata": {},
   "outputs": [],
   "source": [
    "host_qid_rating = pd.merge(host_df, rating_df, on=\"url\")"
   ]
  },
  {
   "cell_type": "code",
   "execution_count": 15,
   "id": "a195691c",
   "metadata": {},
   "outputs": [
    {
     "data": {
      "text/html": [
       "<div>\n",
       "<style scoped>\n",
       "    .dataframe tbody tr th:only-of-type {\n",
       "        vertical-align: middle;\n",
       "    }\n",
       "\n",
       "    .dataframe tbody tr th {\n",
       "        vertical-align: top;\n",
       "    }\n",
       "\n",
       "    .dataframe thead th {\n",
       "        text-align: right;\n",
       "    }\n",
       "</style>\n",
       "<table border=\"1\" class=\"dataframe\">\n",
       "  <thead>\n",
       "    <tr style=\"text-align: right;\">\n",
       "      <th></th>\n",
       "      <th>hostid</th>\n",
       "      <th>url</th>\n",
       "      <th>qid</th>\n",
       "      <th>rating</th>\n",
       "    </tr>\n",
       "  </thead>\n",
       "  <tbody>\n",
       "    <tr>\n",
       "      <th>0</th>\n",
       "      <td>1</td>\n",
       "      <td>http://09spravki.ru/requisites.php</td>\n",
       "      <td>70357</td>\n",
       "      <td>0.00</td>\n",
       "    </tr>\n",
       "    <tr>\n",
       "      <th>1</th>\n",
       "      <td>10</td>\n",
       "      <td>http://3pu.info/seo-tools/domains</td>\n",
       "      <td>5308</td>\n",
       "      <td>0.00</td>\n",
       "    </tr>\n",
       "    <tr>\n",
       "      <th>2</th>\n",
       "      <td>1006</td>\n",
       "      <td>http://www.priroda.su/item/820</td>\n",
       "      <td>407522</td>\n",
       "      <td>0.00</td>\n",
       "    </tr>\n",
       "    <tr>\n",
       "      <th>3</th>\n",
       "      <td>1007</td>\n",
       "      <td>http://www.prisnilos.su/znaki_zodiaka/strelets...</td>\n",
       "      <td>438518</td>\n",
       "      <td>0.14</td>\n",
       "    </tr>\n",
       "    <tr>\n",
       "      <th>4</th>\n",
       "      <td>1009</td>\n",
       "      <td>http://www.prohotel.ru/hotel-108042/0/</td>\n",
       "      <td>79514</td>\n",
       "      <td>0.07</td>\n",
       "    </tr>\n",
       "  </tbody>\n",
       "</table>\n",
       "</div>"
      ],
      "text/plain": [
       "   hostid                                                url     qid  rating\n",
       "0       1                 http://09spravki.ru/requisites.php   70357    0.00\n",
       "1      10                  http://3pu.info/seo-tools/domains    5308    0.00\n",
       "2    1006                     http://www.priroda.su/item/820  407522    0.00\n",
       "3    1007  http://www.prisnilos.su/znaki_zodiaka/strelets...  438518    0.14\n",
       "4    1009             http://www.prohotel.ru/hotel-108042/0/   79514    0.07"
      ]
     },
     "execution_count": 15,
     "metadata": {},
     "output_type": "execute_result"
    }
   ],
   "source": [
    "host_qid_rating.head()"
   ]
  },
  {
   "cell_type": "code",
   "execution_count": 17,
   "id": "d153a7f9",
   "metadata": {},
   "outputs": [
    {
     "data": {
      "text/html": [
       "<div>\n",
       "<style scoped>\n",
       "    .dataframe tbody tr th:only-of-type {\n",
       "        vertical-align: middle;\n",
       "    }\n",
       "\n",
       "    .dataframe tbody tr th {\n",
       "        vertical-align: top;\n",
       "    }\n",
       "\n",
       "    .dataframe thead th {\n",
       "        text-align: right;\n",
       "    }\n",
       "</style>\n",
       "<table border=\"1\" class=\"dataframe\">\n",
       "  <thead>\n",
       "    <tr style=\"text-align: right;\">\n",
       "      <th></th>\n",
       "      <th>qid</th>\n",
       "      <th>query</th>\n",
       "    </tr>\n",
       "  </thead>\n",
       "  <tbody>\n",
       "    <tr>\n",
       "      <th>0</th>\n",
       "      <td>402111</td>\n",
       "      <td>работа фотографом в австралии</td>\n",
       "    </tr>\n",
       "    <tr>\n",
       "      <th>1</th>\n",
       "      <td>405851</td>\n",
       "      <td>производительность видеокарт</td>\n",
       "    </tr>\n",
       "    <tr>\n",
       "      <th>2</th>\n",
       "      <td>407522</td>\n",
       "      <td>ёлочные игрушки из пластиковых бутылок</td>\n",
       "    </tr>\n",
       "    <tr>\n",
       "      <th>3</th>\n",
       "      <td>409073</td>\n",
       "      <td>туту</td>\n",
       "    </tr>\n",
       "    <tr>\n",
       "      <th>4</th>\n",
       "      <td>438518</td>\n",
       "      <td>характеристика стрельцов</td>\n",
       "    </tr>\n",
       "  </tbody>\n",
       "</table>\n",
       "</div>"
      ],
      "text/plain": [
       "      qid                                   query\n",
       "0  402111           работа фотографом в австралии\n",
       "1  405851            производительность видеокарт\n",
       "2  407522  ёлочные игрушки из пластиковых бутылок\n",
       "3  409073                                    туту\n",
       "4  438518                характеристика стрельцов"
      ]
     },
     "execution_count": 17,
     "metadata": {},
     "output_type": "execute_result"
    }
   ],
   "source": [
    "query_df.head()"
   ]
  },
  {
   "cell_type": "code",
   "execution_count": 18,
   "id": "62840e52",
   "metadata": {},
   "outputs": [
    {
     "data": {
      "text/html": [
       "<div>\n",
       "<style scoped>\n",
       "    .dataframe tbody tr th:only-of-type {\n",
       "        vertical-align: middle;\n",
       "    }\n",
       "\n",
       "    .dataframe tbody tr th {\n",
       "        vertical-align: top;\n",
       "    }\n",
       "\n",
       "    .dataframe thead th {\n",
       "        text-align: right;\n",
       "    }\n",
       "</style>\n",
       "<table border=\"1\" class=\"dataframe\">\n",
       "  <thead>\n",
       "    <tr style=\"text-align: right;\">\n",
       "      <th></th>\n",
       "      <th>qid</th>\n",
       "      <th>query</th>\n",
       "    </tr>\n",
       "  </thead>\n",
       "  <tbody>\n",
       "    <tr>\n",
       "      <th>14</th>\n",
       "      <td>692308</td>\n",
       "      <td>бесплатный просмотр камеди клаб</td>\n",
       "    </tr>\n",
       "  </tbody>\n",
       "</table>\n",
       "</div>"
      ],
      "text/plain": [
       "       qid                            query\n",
       "14  692308  бесплатный просмотр камеди клаб"
      ]
     },
     "execution_count": 18,
     "metadata": {},
     "output_type": "execute_result"
    }
   ],
   "source": [
    "pFound_df = host_qid_rating.groupby(\"qid\").apply(pFound)\n",
    "query_df[query_df[\"qid\"] == pFound_df.idxmax()]"
   ]
  },
  {
   "cell_type": "markdown",
   "id": "25524fb2",
   "metadata": {},
   "source": [
    "# Ans = бесплатный просмотр камеди клаб"
   ]
  },
  {
   "cell_type": "markdown",
   "id": "96ec139d",
   "metadata": {},
   "source": [
    "# B. Спортивный турнир"
   ]
  },
  {
   "cell_type": "code",
   "execution_count": 84,
   "id": "12356dee",
   "metadata": {
    "scrolled": true
   },
   "outputs": [
    {
     "name": "stdout",
     "output_type": "stream",
     "text": [
      "GORBOVSKII IURKOVSKII\n"
     ]
    }
   ],
   "source": [
    "import math\n",
    "\n",
    "def solution(file):\n",
    "\n",
    "    games = []\n",
    "    \n",
    "    for i, line in enumerate(open(file)):\n",
    "        line = line.strip()\n",
    "        if i == 0:\n",
    "            n_games = int(line)\n",
    "            n_rounds = int(math.log2(n_games + 1))\n",
    "        else:\n",
    "            games.append(line.split())\n",
    "            \n",
    "    dic = {}\n",
    "    \n",
    "    for i in range(len(games)):\n",
    "        gamer1, gamer2 = games[i]\n",
    "        \n",
    "        if gamer1 not in dic:\n",
    "            dic[gamer1] = 0\n",
    "            \n",
    "        if gamer2 not in dic:\n",
    "            dic[gamer2] = 0\n",
    "            \n",
    "        dic[gamer1] += 1\n",
    "        dic[gamer2] += 1\n",
    "        \n",
    "    dic_rounds = [[] for _ in range(n_rounds + 1)]\n",
    "    \n",
    "    for gamer in dic:\n",
    "        \n",
    "        if dic[gamer] > n_rounds:\n",
    "            return \"NO SOLUTION\"\n",
    "    \n",
    "        dic_rounds[dic[gamer]].append(gamer)\n",
    "        \n",
    "    set_gamers = set()\n",
    "    \n",
    "    for n_round in range(1, len(dic_rounds)-1):\n",
    "        \n",
    "        if len(dic_rounds[n_round]) != 2**(n_rounds-n_round):\n",
    "            return \"NO SOLUTION\"\n",
    "        \n",
    "        for gamer in dic_rounds[n_round]:\n",
    "            if gamer in set_gamers:\n",
    "                return \"NO SOLUTION\" \n",
    "            set_gamers.add(gamer)\n",
    "        \n",
    "    return \" \".join(dic_rounds[n_rounds])\n",
    "\n",
    "print(solution('input.txt'))"
   ]
  },
  {
   "cell_type": "code",
   "execution_count": 87,
   "id": "2410fbe5",
   "metadata": {},
   "outputs": [
    {
     "name": "stdout",
     "output_type": "stream",
     "text": [
      "[[], [['GORBOVSKII', 'ABALKIN'], ['SIKORSKI', 'KAMMERER'], ['PRIVALOV', 'BYKOV'], ['IURKOVSKII', 'KIVRIN']], [['SIKORSKI', 'GORBOVSKII'], ['BYKOV', 'IURKOVSKII']], [['GORBOVSKII', 'IURKOVSKII']]]\n",
      "GORBOVSKII IURKOVSKII\n"
     ]
    }
   ],
   "source": [
    "import collections\n",
    "\n",
    "\n",
    "def solve(fname):\n",
    "    games = []\n",
    "    for it, line in enumerate(open(fname)):\n",
    "        line = line.strip()\n",
    "        if not line:\n",
    "            continue\n",
    "        if it == 0:\n",
    "            n_games = int(line)\n",
    "            n_rounds = n_games.bit_length()\n",
    "        else:\n",
    "            games.append(line.split())\n",
    "\n",
    "    gamer2games_cnt = collections.Counter()\n",
    "    rounds = [[] for _ in range(n_rounds + 1)]\n",
    "\n",
    "    for game in games:\n",
    "        gamer_1, gamer_2 = game\n",
    "        gamer2games_cnt[gamer_1] += 1\n",
    "        gamer2games_cnt[gamer_2] += 1\n",
    "\n",
    "    ok = True\n",
    "    for game in games:\n",
    "        gamer_1, gamer_2 = game\n",
    "        game_round = min(gamer2games_cnt[gamer_1], gamer2games_cnt[gamer_2])\n",
    "        if game_round > n_rounds:\n",
    "            ok = False\n",
    "            break\n",
    "        rounds[game_round].append(game)\n",
    "    print(rounds)\n",
    "    finalists = list((gamer for gamer, games_cnt in gamer2games_cnt.items() if games_cnt == n_rounds))\n",
    "\n",
    "    for cur_round in range(1, n_rounds):\n",
    "        if len(rounds[cur_round]) != pow(2, n_rounds - cur_round):\n",
    "            ok = False\n",
    "            break\n",
    "        cur_round_gamers = set()\n",
    "        for gamer_1, gamer_2 in rounds[cur_round]:\n",
    "\n",
    "            if gamer_1 in cur_round_gamers or gamer_2 in cur_round_gamers:\n",
    "                ok = False\n",
    "                break\n",
    "            cur_round_gamers.add(gamer_1)\n",
    "            cur_round_gamers.add(gamer_2)\n",
    "\n",
    "    return ' '.join(finalists) if ok else 'NO SOLUTION'\n",
    "    \n",
    "print(solve(\"input.txt\"))"
   ]
  }
 ],
 "metadata": {
  "kernelspec": {
   "display_name": "Python 3 (ipykernel)",
   "language": "python",
   "name": "python3"
  },
  "language_info": {
   "codemirror_mode": {
    "name": "ipython",
    "version": 3
   },
   "file_extension": ".py",
   "mimetype": "text/x-python",
   "name": "python",
   "nbconvert_exporter": "python",
   "pygments_lexer": "ipython3",
   "version": "3.9.7"
  }
 },
 "nbformat": 4,
 "nbformat_minor": 5
}
